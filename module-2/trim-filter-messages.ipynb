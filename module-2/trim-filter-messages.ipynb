{
 "cells": [
  {
   "cell_type": "markdown",
   "metadata": {},
   "source": [
    "# Filtering and Trimming Messages"
   ]
  },
  {
   "cell_type": "code",
   "execution_count": 1,
   "metadata": {},
   "outputs": [],
   "source": [
    "import os, getpass\n",
    "\n",
    "def _set_env(var: str):\n",
    "    if not os.environ.get(var):\n",
    "        os.environ[var] = getpass.getpass(f\"{var}: \")\n",
    "\n",
    "_set_env(\"OPENAI_API_KEY\")"
   ]
  },
  {
   "cell_type": "markdown",
   "metadata": {},
   "source": [
    "## Messages as state"
   ]
  },
  {
   "cell_type": "code",
   "execution_count": 2,
   "metadata": {},
   "outputs": [
    {
     "name": "stdout",
     "output_type": "stream",
     "text": [
      "==================================\u001b[1m Ai Message \u001b[0m==================================\n",
      "Name: Bot\n",
      "\n",
      "So you said you were researching ocean mammals?\n",
      "================================\u001b[1m Human Message \u001b[0m=================================\n",
      "Name: Lance\n",
      "\n",
      "Yes, I know about whales. But what others should I learn about?\n"
     ]
    }
   ],
   "source": [
    "from pprint import pprint\n",
    "from langchain_core.messages import AIMessage, HumanMessage\n",
    "\n",
    "messages = [AIMessage(f\"So you said you were researching ocean mammals?\", name=\"Bot\")]\n",
    "messages.append(HumanMessage(f\"Yes, I know about whales. But what others should I learn about?\", name=\"Lance\"))\n",
    "\n",
    "for m in messages:\n",
    "    m.pretty_print()"
   ]
  },
  {
   "cell_type": "code",
   "execution_count": 3,
   "metadata": {},
   "outputs": [
    {
     "data": {
      "text/plain": [
       "AIMessage(content='In addition to whales, there are several fascinating ocean mammals you might want to learn about:\\n\\n1. **Dolphins**: Known for their intelligence and social behavior, dolphins are highly interactive and can often be seen riding the waves near boats.\\n\\n2. **Porpoises**: Similar to dolphins but generally smaller and with a different snout shape. They are often found in coastal waters.\\n\\n3. **Sea Lions**: These pinnipeds are known for their loud barking and playful nature. They can often be seen lounging on rocks or beaches.\\n\\n4. **Seals**: Another group of pinnipeds, seals are typically more streamlined and less social than sea lions. They can be found in various habitats, including icy waters.\\n\\n5. **Manatees**: Also known as sea cows, these gentle giants are herbivorous and inhabit warm, shallow waters. They are known for their slow-moving nature.\\n\\n6. **Dugongs**: Similar to manatees, dugongs are also herbivorous and primarily feed on seagrass. They are found in warmer coastal waters.\\n\\n7. **Narwhals**: Known for their long, spiral tusk, narwhals live in Arctic waters and are often called the \"unicorns of the sea.\"\\n\\n8. **Beluga Whales**: These white whales are known for their vocalizations and social structures. They inhabit Arctic and sub-Arctic waters.\\n\\n9. **Orcas (Killer Whales)**: Technically the largest member of the dolphin family, orcas are highly social and intelligent predators found in oceans around the globe.\\n\\n10. **Sea Otters**: These small, furry mammals are known for their playful behavior and use of tools to crack open shellfish. They play a crucial role in maintaining the health of kelp forests.\\n\\nEach of these mammals has unique adaptations and behaviors that make them interesting subjects of study. If there\\'s a specific one you\\'re curious about, let me know!', additional_kwargs={'refusal': None}, response_metadata={'token_usage': {'completion_tokens': 401, 'prompt_tokens': 39, 'total_tokens': 440, 'completion_tokens_details': {'reasoning_tokens': 0}}, 'model_name': 'gpt-4o-mini-2024-07-18', 'system_fingerprint': 'fp_483d39d857', 'finish_reason': 'stop', 'logprobs': None}, id='run-5a472935-d50d-450e-aa8a-ddd925b961a3-0', usage_metadata={'input_tokens': 39, 'output_tokens': 401, 'total_tokens': 440})"
      ]
     },
     "execution_count": 3,
     "metadata": {},
     "output_type": "execute_result"
    }
   ],
   "source": [
    "from langchain_openai import ChatOpenAI\n",
    "\n",
    "llm = ChatOpenAI(model=\"gpt-4o-mini\")\n",
    "llm.invoke(messages)"
   ]
  },
  {
   "cell_type": "code",
   "execution_count": 4,
   "metadata": {},
   "outputs": [
    {
     "data": {
      "image/jpeg": "[encoded data removed]",
      "text/plain": [
       "<IPython.core.display.Image object>"
      ]
     },
     "metadata": {},
     "output_type": "display_data"
    }
   ],
   "source": [
    "from IPython.display import Image, display\n",
    "from langgraph.graph import MessagesState, StateGraph, START, END\n",
    "\n",
    "def chat_model_node(state: MessagesState):\n",
    "    return {\"messages\": llm.invoke(state[\"messages\"])}\n",
    "\n",
    "# Build graph\n",
    "builder = StateGraph(MessagesState)\n",
    "builder.add_node(\"chat_model\", chat_model_node)\n",
    "builder.add_edge(START, \"chat_model\")\n",
    "builder.add_edge(\"chat_model\", END)\n",
    "graph = builder.compile()\n",
    "\n",
    "# View\n",
    "display(Image(graph.get_graph().draw_mermaid_png()))"
   ]
  },
  {
   "cell_type": "code",
   "execution_count": 5,
   "metadata": {},
   "outputs": [
    {
     "name": "stdout",
     "output_type": "stream",
     "text": [
      "==================================\u001b[1m Ai Message \u001b[0m==================================\n",
      "Name: Bot\n",
      "\n",
      "So you said you were researching ocean mammals?\n",
      "================================\u001b[1m Human Message \u001b[0m=================================\n",
      "Name: Lance\n",
      "\n",
      "Yes, I know about whales. But what others should I learn about?\n",
      "==================================\u001b[1m Ai Message \u001b[0m==================================\n",
      "\n",
      "In addition to whales, here are some other fascinating ocean mammals you might want to learn about:\n",
      "\n",
      "1. **Dolphins**: Known for their intelligence and playful behavior, dolphins are part of the cetacean family, which includes whales and porpoises.\n",
      "\n",
      "2. **Porpoises**: Similar to dolphins but generally smaller and with different physical characteristics, porpoises are also part of the cetacean family and are known for their shy nature.\n",
      "\n",
      "3. **Sea Lions**: These pinnipeds are known for their external ear flaps and social behavior. They can often be seen lounging on rocks or beaches.\n",
      "\n",
      "4. **Seals**: Another group of pinnipeds, seals lack external ear flaps and are typically more streamlined than sea lions. They are known for their agility in the water.\n",
      "\n",
      "5. **Manatees**: Also known as sea cows, these gentle giants are herbivorous and primarily inhabit warm coastal waters and rivers.\n",
      "\n",
      "6. **Dugongs**: Similar to manatees, dugongs are also herbivorous marine mammals but are distinguished by their fluked tail and are primarily found in warm coastal waters of the Indian and western Pacific Oceans.\n",
      "\n",
      "7. **Narwhals**: Often referred to as the \"unicorns of the sea,\" narwhals have a long, spiral tusk that is actually a tooth. They are found in Arctic waters.\n",
      "\n",
      "8. **Orcas (Killer Whales)**: A highly social and intelligent species, orcas are actually the largest members of the dolphin family and are known for their complex social structures and hunting techniques.\n",
      "\n",
      "9. **Sperm Whales**: The largest toothed whales, sperm whales are known for their deep-diving abilities and distinctive block-shaped heads.\n",
      "\n",
      "10. **Beluga Whales**: These small, white whales are known for their vocalizations and are often referred to as the \"canaries of the sea.\"\n",
      "\n",
      "Exploring these different species will give you a broader understanding of marine life and the diverse adaptations that allow them to thrive in ocean environments!\n"
     ]
    }
   ],
   "source": [
    "output = graph.invoke({'messages': messages})\n",
    "for m in output['messages']:\n",
    "    m.pretty_print()"
   ]
  },
  {
   "cell_type": "markdown",
   "metadata": {},
   "source": [
    "## Reducer"
   ]
  },
  {
   "cell_type": "markdown",
   "metadata": {},
   "source": [
    "A practical challenge when working with messages is managing long-running conversations. \n",
    "\n",
    "Long-running conversations result in high token usage and latency if we are not careful, because we pass a growing list of messages to the model.\n",
    "\n",
    "We have a few ways to address this.\n",
    "\n",
    "First, recall the trick we saw using `RemoveMessage` and the `add_messages` reducer."
   ]
  },
  {
   "cell_type": "code",
   "execution_count": 6,
   "metadata": {},
   "outputs": [
    {
     "data": {
      "image/jpeg": "[encoded data removed]",
      "text/plain": [
       "<IPython.core.display.Image object>"
      ]
     },
     "metadata": {},
     "output_type": "display_data"
    }
   ],
   "source": [
    "from langchain_core.messages import RemoveMessage\n",
    "\n",
    "def filter_messages(state: MessagesState):\n",
    "    delete_messages = [RemoveMessage(id=m.id) for m in state[\"messages\"][:-2]]\n",
    "    return {\"messages\": delete_messages}\n",
    "\n",
    "def chat_model_node(state: MessagesState):\n",
    "    return {\"messages\": [llm.invoke(state[\"messages\"])]}\n",
    "\n",
    "# Build graph\n",
    "builder = StateGraph(MessagesState)\n",
    "builder.add_node(\"filter\", filter_messages)\n",
    "builder.add_node(\"chat_model\", chat_model_node)\n",
    "builder.add_edge(START, \"filter\")\n",
    "builder.add_edge(\"filter\", \"chat_model\")\n",
    "builder.add_edge(\"chat_model\", END)\n",
    "graph = builder.compile()\n",
    "\n",
    "# View\n",
    "display(Image(graph.get_graph().draw_mermaid_png()))"
   ]
  },
  {
   "cell_type": "code",
   "execution_count": 7,
   "metadata": {},
   "outputs": [
    {
     "name": "stderr",
     "output_type": "stream",
     "text": [
      "/var/folders/3d/p7qkh78d27d28q35f5nt84y40000gp/T/ipykernel_90539/820294666.py:4: LangChainBetaWarning: The class `RemoveMessage` is in beta. It is actively being worked on, so the API may change.\n",
      "  delete_messages = [RemoveMessage(id=m.id) for m in state[\"messages\"][:-2]]\n"
     ]
    },
    {
     "name": "stdout",
     "output_type": "stream",
     "text": [
      "==================================\u001b[1m Ai Message \u001b[0m==================================\n",
      "Name: Bot\n",
      "\n",
      "So you said you were researching ocean mammals?\n",
      "================================\u001b[1m Human Message \u001b[0m=================================\n",
      "Name: Lance\n",
      "\n",
      "Yes, I know about whales. But what others should I learn about?\n",
      "==================================\u001b[1m Ai Message \u001b[0m==================================\n",
      "\n",
      "In addition to whales, there are several fascinating ocean mammals you might want to learn about:\n",
      "\n",
      "1. **Dolphins** - Highly intelligent and social, dolphins are known for their playful behavior and complex communication skills. The bottlenose dolphin is one of the most well-known species.\n",
      "\n",
      "2. **Porpoises** - Similar to dolphins but generally smaller and with different teeth and snouts, porpoises are also social creatures that inhabit coastal waters.\n",
      "\n",
      "3. **Seals** - There are several types of seals, including harbor seals and elephant seals. They are known for their playful nature and can be found on various coastlines.\n",
      "\n",
      "4. **Sea Lions** - Similar to seals but with external ear flaps and more social behavior, sea lions are often found in large groups on rocky shores.\n",
      "\n",
      "5. **Manatees** - Also known as sea cows, manatees are gentle herbivores that inhabit warm coastal waters and rivers. They are known for their slow movements and friendly disposition.\n",
      "\n",
      "6. **Dugongs** - Similar to manatees, dugongs are also herbivorous marine mammals and are primarily found in warm coastal waters of the Indian and western Pacific Oceans.\n",
      "\n",
      "7. **Narwhals** - Known for their long, spiral tusks, narwhals are Arctic cetaceans that are closely related to beluga whales.\n",
      "\n",
      "8. **Beluga Whales** - Often called \"canaries of the sea\" for their vocalizations, belugas are known for their white color and social behavior, often found in Arctic and sub-Arctic regions.\n",
      "\n",
      "9. **Orcas (Killer Whales)** - A type of dolphin, orcas are highly intelligent predators and have complex social structures. They are found in oceans all over the world.\n",
      "\n",
      "10. **Sea Otters** - These small marine mammals are known for their dense fur and playful behavior. They play an important role in marine ecosystems by helping control sea urchin populations.\n",
      "\n",
      "Each of these mammals has unique adaptations and behaviors that make them interesting subjects of study. Would you like to know more about any specific one?\n"
     ]
    }
   ],
   "source": [
    "# Message list with a preamble\n",
    "messages = [AIMessage(\"Hi.\", name=\"Bot\", id=\"1\")]\n",
    "messages.append(HumanMessage(\"Hi.\", name=\"Lance\", id=\"2\"))\n",
    "messages.append(AIMessage(\"So you said you were researching ocean mammals?\", name=\"Bot\", id=\"3\"))\n",
    "messages.append(HumanMessage(\"Yes, I know about whales. But what others should I learn about?\", name=\"Lance\", id=\"4\"))\n",
    "\n",
    "# Invoke\n",
    "output = graph.invoke({'messages': messages})\n",
    "for m in output['messages']:\n",
    "    m.pretty_print()"
   ]
  },
  {
   "cell_type": "markdown",
   "metadata": {},
   "source": [
    "## Filtering Messages"
   ]
  },
  {
   "cell_type": "markdown",
   "metadata": {},
   "source": [
    "If you don't need or want to modify the graph state, you can just filter the messages you pass to the chat model.\n",
    "\n",
    "For example, just pass in a filtered list: `llm.invoke(messages[-1:])` to the model."
   ]
  },
  {
   "cell_type": "code",
   "execution_count": 8,
   "metadata": {},
   "outputs": [
    {
     "data": {
      "image/jpeg": "[encoded data removed]",
      "text/plain": [
       "<IPython.core.display.Image object>"
      ]
     },
     "metadata": {},
     "output_type": "display_data"
    }
   ],
   "source": [
    "# Node\n",
    "def chat_model_node(state: MessagesState):\n",
    "    return {\"messages\": [llm.invoke(state[\"messages\"][-1:])]}\n",
    "\n",
    "# Build graph\n",
    "builder = StateGraph(MessagesState)\n",
    "builder.add_node(\"chat_model\", chat_model_node)\n",
    "builder.add_edge(START, \"chat_model\")\n",
    "builder.add_edge(\"chat_model\", END)\n",
    "graph = builder.compile()\n",
    "\n",
    "# View\n",
    "display(Image(graph.get_graph().draw_mermaid_png()))"
   ]
  },
  {
   "cell_type": "code",
   "execution_count": 9,
   "metadata": {},
   "outputs": [
    {
     "name": "stdout",
     "output_type": "stream",
     "text": [
      "==================================\u001b[1m Ai Message \u001b[0m==================================\n",
      "Name: Bot\n",
      "\n",
      "Hi.\n",
      "================================\u001b[1m Human Message \u001b[0m=================================\n",
      "Name: Lance\n",
      "\n",
      "Hi.\n",
      "==================================\u001b[1m Ai Message \u001b[0m==================================\n",
      "Name: Bot\n",
      "\n",
      "So you said you were researching ocean mammals?\n",
      "================================\u001b[1m Human Message \u001b[0m=================================\n",
      "Name: Lance\n",
      "\n",
      "Yes, I know about whales. But what others should I learn about?\n",
      "==================================\u001b[1m Ai Message \u001b[0m==================================\n",
      "\n",
      "In addition to whales, there are several fascinating ocean mammals you might want to learn about:\n",
      "\n",
      "1. **Dolphins** - Highly intelligent and social, dolphins are known for their playful behavior and complex communication skills. The bottlenose dolphin is one of the most well-known species.\n",
      "\n",
      "2. **Porpoises** - Similar to dolphins but generally smaller and with different teeth and snouts, porpoises are also social creatures that inhabit coastal waters.\n",
      "\n",
      "3. **Seals** - There are several types of seals, including harbor seals and elephant seals. They are known for their playful nature and can be found on various coastlines.\n",
      "\n",
      "4. **Sea Lions** - Similar to seals but with external ear flaps and more social behavior, sea lions are often found in large groups on rocky shores.\n",
      "\n",
      "5. **Manatees** - Also known as sea cows, manatees are gentle herbivores that inhabit warm coastal waters and rivers. They are known for their slow movements and friendly disposition.\n",
      "\n",
      "6. **Dugongs** - Similar to manatees, dugongs are also herbivorous marine mammals and are primarily found in warm coastal waters of the Indian and western Pacific Oceans.\n",
      "\n",
      "7. **Narwhals** - Known for their long, spiral tusks, narwhals are Arctic cetaceans that are closely related to beluga whales.\n",
      "\n",
      "8. **Beluga Whales** - Often called \"canaries of the sea\" for their vocalizations, belugas are known for their white color and social behavior, often found in Arctic and sub-Arctic regions.\n",
      "\n",
      "9. **Orcas (Killer Whales)** - A type of dolphin, orcas are highly intelligent predators and have complex social structures. They are found in oceans all over the world.\n",
      "\n",
      "10. **Sea Otters** - These small marine mammals are known for their dense fur and playful behavior. They play an important role in marine ecosystems by helping control sea urchin populations.\n",
      "\n",
      "Each of these mammals has unique adaptations and behaviors that make them interesting subjects of study. Would you like to know more about any specific one?\n",
      "================================\u001b[1m Human Message \u001b[0m=================================\n",
      "Name: Lance\n",
      "\n",
      "Tell me more about Narwhals!\n"
     ]
    }
   ],
   "source": [
    "messages.append(output['messages'][-1])\n",
    "messages.append(HumanMessage(f\"Tell me more about Narwhals!\", name=\"Lance\"))\n",
    "\n",
    "for m in messages:\n",
    "    m.pretty_print()"
   ]
  },
  {
   "cell_type": "code",
   "execution_count": 10,
   "metadata": {},
   "outputs": [
    {
     "name": "stdout",
     "output_type": "stream",
     "text": [
      "==================================\u001b[1m Ai Message \u001b[0m==================================\n",
      "Name: Bot\n",
      "\n",
      "Hi.\n",
      "================================\u001b[1m Human Message \u001b[0m=================================\n",
      "Name: Lance\n",
      "\n",
      "Hi.\n",
      "==================================\u001b[1m Ai Message \u001b[0m==================================\n",
      "Name: Bot\n",
      "\n",
      "So you said you were researching ocean mammals?\n",
      "================================\u001b[1m Human Message \u001b[0m=================================\n",
      "Name: Lance\n",
      "\n",
      "Yes, I know about whales. But what others should I learn about?\n",
      "==================================\u001b[1m Ai Message \u001b[0m==================================\n",
      "\n",
      "In addition to whales, there are several fascinating ocean mammals you might want to learn about:\n",
      "\n",
      "1. **Dolphins** - Highly intelligent and social, dolphins are known for their playful behavior and complex communication skills. The bottlenose dolphin is one of the most well-known species.\n",
      "\n",
      "2. **Porpoises** - Similar to dolphins but generally smaller and with different teeth and snouts, porpoises are also social creatures that inhabit coastal waters.\n",
      "\n",
      "3. **Seals** - There are several types of seals, including harbor seals and elephant seals. They are known for their playful nature and can be found on various coastlines.\n",
      "\n",
      "4. **Sea Lions** - Similar to seals but with external ear flaps and more social behavior, sea lions are often found in large groups on rocky shores.\n",
      "\n",
      "5. **Manatees** - Also known as sea cows, manatees are gentle herbivores that inhabit warm coastal waters and rivers. They are known for their slow movements and friendly disposition.\n",
      "\n",
      "6. **Dugongs** - Similar to manatees, dugongs are also herbivorous marine mammals and are primarily found in warm coastal waters of the Indian and western Pacific Oceans.\n",
      "\n",
      "7. **Narwhals** - Known for their long, spiral tusks, narwhals are Arctic cetaceans that are closely related to beluga whales.\n",
      "\n",
      "8. **Beluga Whales** - Often called \"canaries of the sea\" for their vocalizations, belugas are known for their white color and social behavior, often found in Arctic and sub-Arctic regions.\n",
      "\n",
      "9. **Orcas (Killer Whales)** - A type of dolphin, orcas are highly intelligent predators and have complex social structures. They are found in oceans all over the world.\n",
      "\n",
      "10. **Sea Otters** - These small marine mammals are known for their dense fur and playful behavior. They play an important role in marine ecosystems by helping control sea urchin populations.\n",
      "\n",
      "Each of these mammals has unique adaptations and behaviors that make them interesting subjects of study. Would you like to know more about any specific one?\n",
      "================================\u001b[1m Human Message \u001b[0m=================================\n",
      "Name: Lance\n",
      "\n",
      "Tell me more about Narwhals!\n",
      "==================================\u001b[1m Ai Message \u001b[0m==================================\n",
      "\n",
      "Narwhals (Monodon monoceros) are fascinating marine mammals known for their long, spiral tusks, which are actually elongated teeth. Here are some interesting facts about narwhals:\n",
      "\n",
      "1. **Habitat**: Narwhals primarily inhabit the Arctic waters of Canada, Greenland, and Russia. They are well adapted to living in icy environments and can often be found in deep, cold waters.\n",
      "\n",
      "2. **Appearance**: Adult narwhals typically range from 13 to 18 feet (4 to 5.5 meters) in length. Males are known for their long tusks, which can grow up to 10 feet (3 meters) long. Females usually lack a tusk, although some may have a shorter one. The tusk is often thought to play a role in mating displays and social interactions rather than being exclusively a weapon.\n",
      "\n",
      "3. **Diet**: Narwhals primarily feed on fish, squid, and shrimp. They are known to dive to great depths—up to 1,500 meters (4,920 feet)—in search of food, often using echolocation to locate prey in the dark waters.\n",
      "\n",
      "4. **Social Structure**: Narwhals are social animals and typically live in groups called pods, which can consist of a few individuals to several dozen. They often form strong bonds within these pods.\n",
      "\n",
      "5. **Reproduction**: Breeding usually occurs in the spring, and after a gestation period of about 14 months, females give birth to a single calf. Calves are born in the late summer or early autumn and stay with their mothers for about 1-2 years.\n",
      "\n",
      "6. **Vocalizations**: Narwhals are known for their vocal abilities, producing a variety of sounds including clicks, whistles, and pulsed calls. These vocalizations are used for communication and navigation.\n",
      "\n",
      "7. **Conservation Status**: Narwhals are currently classified as \"Near Threatened\" by the International Union for Conservation of Nature (IUCN). They face threats from climate change, which affects their ice habitat, as well as hunting and potential impacts from shipping and oil drilling in the Arctic.\n",
      "\n",
      "8. **Cultural Significance**: In Inuit culture, narwhals have been an important source of food and materials for centuries. The tusk, often referred to as the \"unicorn horn,\" has also been a subject of fascination and myth.\n",
      "\n",
      "Overall, narwhals are unique creatures that play an important role in the Arctic ecosystem and have captured the imagination of people around the world.\n"
     ]
    }
   ],
   "source": [
    "# Invoke, using message filtering\n",
    "output = graph.invoke({'messages': messages})\n",
    "for m in output['messages']:\n",
    "    m.pretty_print()"
   ]
  },
  {
   "cell_type": "markdown",
   "metadata": {},
   "source": [
    "The state has all of the mesages.\n",
    "\n",
    "But, let's look at the LangSmith trace to see that the model invocation only uses the last message:\n",
    "\n",
    "https://smith.langchain.com/o/7733aa42-7fa1-584c-b6b6-3775fbe407d6/projects/p/7f9c2534-1e75-4018-ba6e-915f36895c94?timeModel=%7B%22duration%22%3A%227d%22%7D&peek=bc6de717-20dc-4c81-89f6-c32f2d5beda8"
   ]
  },
  {
   "cell_type": "markdown",
   "metadata": {},
   "source": [
    "## Trim Messages"
   ]
  },
  {
   "cell_type": "markdown",
   "metadata": {},
   "source": [
    "Another approach is to [trim messages](https://python.langchain.com/v0.2/docs/how_to/trim_messages/#getting-the-last-max_tokens-tokens), based upon a set number of tokens. \n",
    "\n",
    "This restricts the message history to a specified number of tokens.\n",
    "\n",
    "While filtering only returns a post-hoc subset of the messages between agents, trimming restricts the number of tokens that a chat model can use to respond.\n",
    "\n",
    "See the `trim_messages` below."
   ]
  },
  {
   "cell_type": "code",
   "execution_count": 11,
   "metadata": {},
   "outputs": [
    {
     "data": {
      "image/jpeg": "[encoded data removed]",
      "text/plain": [
       "<IPython.core.display.Image object>"
      ]
     },
     "metadata": {},
     "output_type": "display_data"
    }
   ],
   "source": [
    "from langchain_core.messages import trim_messages\n",
    "\n",
    "# Node\n",
    "def chat_model_node(state: MessagesState):\n",
    "    messages = trim_messages(\n",
    "            state[\"messages\"],\n",
    "            max_tokens=100,\n",
    "            strategy=\"last\",\n",
    "            token_counter=ChatOpenAI(model=\"gpt-4o\"),\n",
    "            allow_partial=False,\n",
    "        )\n",
    "    return {\"messages\": [llm.invoke(messages)]}\n",
    "\n",
    "# Build graph\n",
    "builder = StateGraph(MessagesState)\n",
    "builder.add_node(\"chat_model\", chat_model_node)\n",
    "builder.add_edge(START, \"chat_model\")\n",
    "builder.add_edge(\"chat_model\", END)\n",
    "graph = builder.compile()\n",
    "\n",
    "# View\n",
    "display(Image(graph.get_graph().draw_mermaid_png()))"
   ]
  },
  {
   "cell_type": "code",
   "execution_count": 12,
   "metadata": {},
   "outputs": [],
   "source": [
    "messages.append(output['messages'][-1])\n",
    "messages.append(HumanMessage(f\"Tell me where Orcas live!\", name=\"Lance\"))"
   ]
  },
  {
   "cell_type": "code",
   "execution_count": 13,
   "metadata": {},
   "outputs": [
    {
     "data": {
      "text/plain": [
       "[HumanMessage(content='Tell me where Orcas live!', additional_kwargs={}, response_metadata={}, name='Lance')]"
      ]
     },
     "execution_count": 13,
     "metadata": {},
     "output_type": "execute_result"
    }
   ],
   "source": [
    "trim_messages(\n",
    "            messages,\n",
    "            max_tokens=100,\n",
    "            strategy=\"last\",\n",
    "            token_counter=ChatOpenAI(model=\"gpt-4o\"),\n",
    "            allow_partial=False\n",
    "        )"
   ]
  },
  {
   "cell_type": "code",
   "execution_count": 14,
   "metadata": {},
   "outputs": [],
   "source": [
    "# Invoke, using message trimming\n",
    "messages_out_trim = graph.invoke({'messages': messages})"
   ]
  },
  {
   "cell_type": "code",
   "execution_count": 15,
   "metadata": {},
   "outputs": [
    {
     "name": "stdout",
     "output_type": "stream",
     "text": [
      "==================================\u001b[1m Ai Message \u001b[0m==================================\n",
      "Name: Bot\n",
      "\n",
      "Hi.\n",
      "================================\u001b[1m Human Message \u001b[0m=================================\n",
      "Name: Lance\n",
      "\n",
      "Hi.\n",
      "==================================\u001b[1m Ai Message \u001b[0m==================================\n",
      "Name: Bot\n",
      "\n",
      "So you said you were researching ocean mammals?\n",
      "================================\u001b[1m Human Message \u001b[0m=================================\n",
      "Name: Lance\n",
      "\n",
      "Yes, I know about whales. But what others should I learn about?\n",
      "==================================\u001b[1m Ai Message \u001b[0m==================================\n",
      "\n",
      "In addition to whales, there are several fascinating ocean mammals you might want to learn about:\n",
      "\n",
      "1. **Dolphins** - Highly intelligent and social, dolphins are known for their playful behavior and complex communication skills. The bottlenose dolphin is one of the most well-known species.\n",
      "\n",
      "2. **Porpoises** - Similar to dolphins but generally smaller and with different teeth and snouts, porpoises are also social creatures that inhabit coastal waters.\n",
      "\n",
      "3. **Seals** - There are several types of seals, including harbor seals and elephant seals. They are known for their playful nature and can be found on various coastlines.\n",
      "\n",
      "4. **Sea Lions** - Similar to seals but with external ear flaps and more social behavior, sea lions are often found in large groups on rocky shores.\n",
      "\n",
      "5. **Manatees** - Also known as sea cows, manatees are gentle herbivores that inhabit warm coastal waters and rivers. They are known for their slow movements and friendly disposition.\n",
      "\n",
      "6. **Dugongs** - Similar to manatees, dugongs are also herbivorous marine mammals and are primarily found in warm coastal waters of the Indian and western Pacific Oceans.\n",
      "\n",
      "7. **Narwhals** - Known for their long, spiral tusks, narwhals are Arctic cetaceans that are closely related to beluga whales.\n",
      "\n",
      "8. **Beluga Whales** - Often called \"canaries of the sea\" for their vocalizations, belugas are known for their white color and social behavior, often found in Arctic and sub-Arctic regions.\n",
      "\n",
      "9. **Orcas (Killer Whales)** - A type of dolphin, orcas are highly intelligent predators and have complex social structures. They are found in oceans all over the world.\n",
      "\n",
      "10. **Sea Otters** - These small marine mammals are known for their dense fur and playful behavior. They play an important role in marine ecosystems by helping control sea urchin populations.\n",
      "\n",
      "Each of these mammals has unique adaptations and behaviors that make them interesting subjects of study. Would you like to know more about any specific one?\n",
      "================================\u001b[1m Human Message \u001b[0m=================================\n",
      "Name: Lance\n",
      "\n",
      "Tell me more about Narwhals!\n",
      "==================================\u001b[1m Ai Message \u001b[0m==================================\n",
      "\n",
      "Narwhals (Monodon monoceros) are fascinating marine mammals known for their long, spiral tusks, which are actually elongated teeth. Here are some interesting facts about narwhals:\n",
      "\n",
      "1. **Habitat**: Narwhals primarily inhabit the Arctic waters of Canada, Greenland, and Russia. They are well adapted to living in icy environments and can often be found in deep, cold waters.\n",
      "\n",
      "2. **Appearance**: Adult narwhals typically range from 13 to 18 feet (4 to 5.5 meters) in length. Males are known for their long tusks, which can grow up to 10 feet (3 meters) long. Females usually lack a tusk, although some may have a shorter one. The tusk is often thought to play a role in mating displays and social interactions rather than being exclusively a weapon.\n",
      "\n",
      "3. **Diet**: Narwhals primarily feed on fish, squid, and shrimp. They are known to dive to great depths—up to 1,500 meters (4,920 feet)—in search of food, often using echolocation to locate prey in the dark waters.\n",
      "\n",
      "4. **Social Structure**: Narwhals are social animals and typically live in groups called pods, which can consist of a few individuals to several dozen. They often form strong bonds within these pods.\n",
      "\n",
      "5. **Reproduction**: Breeding usually occurs in the spring, and after a gestation period of about 14 months, females give birth to a single calf. Calves are born in the late summer or early autumn and stay with their mothers for about 1-2 years.\n",
      "\n",
      "6. **Vocalizations**: Narwhals are known for their vocal abilities, producing a variety of sounds including clicks, whistles, and pulsed calls. These vocalizations are used for communication and navigation.\n",
      "\n",
      "7. **Conservation Status**: Narwhals are currently classified as \"Near Threatened\" by the International Union for Conservation of Nature (IUCN). They face threats from climate change, which affects their ice habitat, as well as hunting and potential impacts from shipping and oil drilling in the Arctic.\n",
      "\n",
      "8. **Cultural Significance**: In Inuit culture, narwhals have been an important source of food and materials for centuries. The tusk, often referred to as the \"unicorn horn,\" has also been a subject of fascination and myth.\n",
      "\n",
      "Overall, narwhals are unique creatures that play an important role in the Arctic ecosystem and have captured the imagination of people around the world.\n",
      "================================\u001b[1m Human Message \u001b[0m=================================\n",
      "Name: Lance\n",
      "\n",
      "Tell me where Orcas live!\n",
      "==================================\u001b[1m Ai Message \u001b[0m==================================\n",
      "\n",
      "Orcas, also known as killer whales, are found in all the world's oceans, from the polar regions to tropical seas. They prefer coastal areas and can typically be found in both deep and shallow waters. Some populations are known to inhabit specific regions, such as the Pacific Northwest, where they are often seen in the waters around Washington State and British Columbia. Other populations are found in colder waters, like the Arctic and Antarctic regions, while some groups inhabit warmer waters, such as those around Hawaii and the Caribbean. Orcas are highly adaptable and can thrive in a variety of marine environments.\n"
     ]
    }
   ],
   "source": [
    "for m in messages_out_trim['messages']:\n",
    "    m.pretty_print()"
   ]
  }
 ],
 "metadata": {
  "kernelspec": {
   "display_name": "langgraph-course",
   "language": "python",
   "name": "python3"
  },
  "language_info": {
   "codemirror_mode": {
    "name": "ipython",
    "version": 3
   },
   "file_extension": ".py",
   "mimetype": "text/x-python",
   "name": "python",
   "nbconvert_exporter": "python",
   "pygments_lexer": "ipython3",
   "version": "3.11.9"
  }
 },
 "nbformat": 4,
 "nbformat_minor": 2
}
